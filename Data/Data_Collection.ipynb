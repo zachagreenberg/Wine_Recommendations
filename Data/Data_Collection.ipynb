{
 "cells": [
  {
   "cell_type": "markdown",
   "metadata": {},
   "source": [
    "# Data Collection"
   ]
  },
  {
   "cell_type": "code",
   "execution_count": 1,
   "metadata": {
    "ExecuteTime": {
     "end_time": "2021-05-11T11:17:18.939251Z",
     "start_time": "2021-05-11T11:17:18.363284Z"
    }
   },
   "outputs": [],
   "source": [
    "#importing libraries\n",
    "import time\n",
    "import requests\n",
    "from selenium import webdriver\n",
    "import pickle\n",
    "import random\n",
    "import re\n",
    "import numpy as np\n",
    "import pandas as pd"
   ]
  },
  {
   "cell_type": "code",
   "execution_count": 2,
   "metadata": {
    "ExecuteTime": {
     "end_time": "2021-05-11T11:17:19.960983Z",
     "start_time": "2021-05-11T11:17:19.874343Z"
    }
   },
   "outputs": [],
   "source": [
    "%%capture\n",
    "from tqdm.notebook import tqdm"
   ]
  },
  {
   "cell_type": "markdown",
   "metadata": {},
   "source": [
    "# Getting Wine Links"
   ]
  },
  {
   "cell_type": "markdown",
   "metadata": {},
   "source": [
    "The urls below take you to the pages of each of the 6 types of wines: red, white, rose, sparkling, dessert, and fortified. The average price was not touched, and is set by default between 10-40 USD. The 'any rating' button, listed below the wine tabs on the left was clicked on for each of these. **Because of the site's frequent updates, this code will not reproduce the same results every time!** Each 'page' or scroll to the bottom, will get 25 wines. With the target being 1800 wines, the 32-range scroll meant for each link down below is to account for the duplicate wines that may appear as the page scrolls further down. "
   ]
  },
  {
   "cell_type": "code",
   "execution_count": 3,
   "metadata": {
    "ExecuteTime": {
     "end_time": "2021-05-11T11:17:26.888686Z",
     "start_time": "2021-05-11T11:17:26.885939Z"
    }
   },
   "outputs": [],
   "source": [
    "#These are the urls I will use to find wines.\n",
    "urls = ['https://www.vivino.com/explore?e=eJzLLbI1VMvNzLM1NFDLTaywNTFQS660DQ1WSwYSLmoFQNn0NNuyxKLM1JLEHLX8JFu1fFu18pLoWKBMMVACAJUrFHI%3D',#Red\n",
    "       'https://www.vivino.com/explore?e=eJzLLbI1VMvNzLM1NFDLTaywNTFQS660DQ1WSwYSLmoFQNn0NNuyxKLM1JLEHLX8JFu1fFu18pLoWFsjtWKgBACVMRRz',#White\n",
    "       'https://www.vivino.com/explore?e=eJzLLbI1VMvNzLM1NFDLTaywNTFQS660DQ1WSwYSLmoFQNn0NNuyxKLM1JLEHLX8JFu1fFu18pLoWFtjtWKgBACVNxR0',#Sparkling\n",
    "       'https://www.vivino.com/explore?e=eJzLLbI1VMvNzLM1NFDLTaywNTFQS660DQ1WSwYSLmoFQNn0NNuyxKLM1JLEHLX8JFu1fFu18pLoWFsTtWKgBACVPRR1',#Rosé\n",
    "       'https://www.vivino.com/explore?e=eJzLLbI1VMvNzLM1NFDLTaywNTFQS660DQ1WSwYSLmoFQNn0NNuyxKLM1JLEHLX8JFu1fFu18pLoWFtztWKgBACVTxR4',#Dessert\n",
    "       'https://www.vivino.com/explore?e=eJzLLbI1VMvNzLM1NFDLTaywNTFQS660DQ1WSwYSLmoFQNn0NNuyxKLM1JLEHLX8JFu1fFu18pLoWFsjE7VioAwAqS8Upw%3D%3D']#Fortified\n",
    "wine_links = set() #this ensures there is no repeats in links\n",
    "        \n",
    "driver = webdriver.Chrome()\n",
    "\n",
    "amount = 300\n",
    "for link in tqdm(urls):        \n",
    "    driver.get(link)\n",
    "    driver.maximize_window()\n",
    "\n",
    "    #this will continue scrolling the page to get more wines\n",
    "    for i in range(32):\n",
    "        driver.execute_script(\"window.scrollTo(0, document.body.scrollHeight);\")\n",
    "        time.sleep(random.choice([x/10 for x in range(5,10)]))\n",
    "\n",
    "\n",
    "    #this will get the hyperlinks to all of the wines\n",
    "    wines = driver.find_elements_by_css_selector('a.anchor__anchor--2QZvA')[:-5] #-5 because the last 5 links go to their social media pages\n",
    "\n",
    "\n",
    "    for index, wine in enumerate(wines):\n",
    "        #this ensures there will be 1800 wines \n",
    "        if len(wine_links) == amount:\n",
    "            break\n",
    "        else:\n",
    "            wine_links.add(wines[index].get_attribute('href'))\n",
    "    amount+=300"
   ]
  },
  {
   "cell_type": "code",
   "execution_count": 4,
   "metadata": {
    "ExecuteTime": {
     "end_time": "2021-05-11T11:17:55.428705Z",
     "start_time": "2021-05-11T11:17:55.425988Z"
    }
   },
   "outputs": [],
   "source": [
    "wine_links = list(wine_links)"
   ]
  },
  {
   "cell_type": "code",
   "execution_count": 5,
   "metadata": {
    "ExecuteTime": {
     "end_time": "2021-05-11T11:18:17.514563Z",
     "start_time": "2021-05-11T11:18:17.504431Z"
    }
   },
   "outputs": [
    {
     "data": {
      "text/plain": [
       "1800"
      ]
     },
     "execution_count": 5,
     "metadata": {},
     "output_type": "execute_result"
    }
   ],
   "source": [
    "#there should be 1800\n",
    "len(wine_links)"
   ]
  },
  {
   "cell_type": "code",
   "execution_count": 6,
   "metadata": {
    "ExecuteTime": {
     "end_time": "2021-05-11T11:18:29.251519Z",
     "start_time": "2021-05-11T11:18:29.248678Z"
    }
   },
   "outputs": [],
   "source": [
    "driver.quit()"
   ]
  },
  {
   "cell_type": "code",
   "execution_count": 7,
   "metadata": {
    "ExecuteTime": {
     "end_time": "2021-05-11T11:18:58.145267Z",
     "start_time": "2021-05-11T11:18:58.142481Z"
    }
   },
   "outputs": [],
   "source": [
    "#saving the list of wines as a pickle file\n",
    "pickle_out = open(\"wine_links.pickle\",\"wb\")\n",
    "pickle.dump(wine_links, pickle_out)\n",
    "pickle_out.close()"
   ]
  },
  {
   "cell_type": "markdown",
   "metadata": {},
   "source": [
    "# Getting Content Information"
   ]
  },
  {
   "cell_type": "markdown",
   "metadata": {},
   "source": [
    "Now that we have the hyperlinks to the wines, the code below will slowly scroll down the pages of each of these links to extract the data shown in the lists below.\n",
    "\n",
    "** This code will take approximately 1.5/2 hours to run."
   ]
  },
  {
   "cell_type": "code",
   "execution_count": 8,
   "metadata": {
    "ExecuteTime": {
     "end_time": "2021-05-11T11:19:10.274140Z",
     "start_time": "2021-05-11T11:19:10.271154Z"
    }
   },
   "outputs": [],
   "source": [
    "driver = webdriver.Chrome()"
   ]
  },
  {
   "cell_type": "code",
   "execution_count": 9,
   "metadata": {
    "ExecuteTime": {
     "end_time": "2021-05-11T11:19:27.415116Z",
     "start_time": "2021-05-11T11:19:27.411279Z"
    }
   },
   "outputs": [],
   "source": [
    "#lists for data\n",
    "winery = []            #name of the winery\n",
    "wine_name = []         #name of the wine\n",
    "wine_type = []         #type of the wine\n",
    "wine_country = []      #country that produced the wine\n",
    "average_rating = []    #average rating of the wine on Vivino.com\n",
    "num_of_ratings = []    #average number of ratings on Vivino.com\n",
    "wine_price = []        #price of the wine on Vivino.com\n",
    "review1 = []           #review 1 of wine\n",
    "review2 = []           #review 2 of wine\n",
    "review3 = []           #review 3 of wine\n",
    "grapes = []            #the grapes utilized to make the wine\n",
    "alcohol_content = []   #the alcohol content of the wine"
   ]
  },
  {
   "cell_type": "code",
   "execution_count": 10,
   "metadata": {
    "ExecuteTime": {
     "end_time": "2021-05-11T11:19:37.942243Z",
     "start_time": "2021-05-11T11:19:37.939493Z"
    }
   },
   "outputs": [],
   "source": [
    "for wine in tqdm(wine_links):\n",
    "    driver.get(wine)\n",
    "   \n",
    "    \n",
    "    #this will capture the information for the following lists below:\n",
    "    content = driver.find_elements_by_class_name('container')[0].text\n",
    "    \n",
    "    \n",
    "    winery.append(content.split('\\n')[0] if content.split('\\n')[0] else np.nan)\n",
    "    wine_name.append(content.split('\\n')[1])\n",
    "    wine_type.append(content.split('\\n')[2])\n",
    "    country = re.findall('\\n · \\n(\\w+\\s?\\w+)\\n', content)\n",
    "    wine_country.append(country[0] if country else np.nan)\n",
    "    average_rating.append(re.findall('(\\d+\\.\\d+)\\\\n\\d+\\sratings', content)[0])\n",
    "    num_of_ratings.append(re.findall('\\d+\\.\\d+\\\\n(\\d+)\\sratings', content)[0])\n",
    "    \n",
    "    price = re.findall('\\$(\\d+\\.?\\d+)\\\\nPrice is', content)\n",
    "    wine_price.append(price[0] if price else np.nan)\n",
    "    \n",
    "    \n",
    "    num = 200\n",
    "    #this will scroll down the page slow enough to capture all of the reviews\n",
    "    while num < 10000:\n",
    "        try:\n",
    "            driver.find_element_by_class_name('communityReviewCard__reviewCard--2ITkC')\n",
    "            review = driver.find_elements_by_class_name('communityReviewCard__reviewCard--2ITkC')\n",
    "            review1.append(review[0].text.split('\\n')[1])\n",
    "            review2.append(review[1].text.split('\\n')[1])\n",
    "            review3.append(review[2].text.split('\\n')[1])\n",
    "            time.sleep(random.choice([x/10 for x in range(10,20)]))\n",
    "            break\n",
    "            \n",
    "        except:\n",
    "            driver.execute_script(f\"window.scrollTo(0, {num});\")\n",
    "            num += 200\n",
    "\n",
    "            \n",
    " \n",
    "    num = 200\n",
    "    #this will scroll down the page slow enough to capture all of grape and alcohol content\n",
    "    while num < 10000:       \n",
    "        try:\n",
    "            driver.find_element_by_class_name('wineFacts__wineFacts--2Ih8B')\n",
    "            facts = driver.find_element_by_class_name('wineFacts__wineFacts--2Ih8B').text\n",
    "            grape = re.findall('Grapes\\\\n(.+)\\\\nRegion', facts)\n",
    "            grapes.append(','.join(grape) if grape else np.nan)\n",
    "            alcohol = re.findall('Alcohol content\\\\n(\\d+.?\\d+)\\%\\\\n', facts)             \n",
    "            alcohol_content.append(alcohol[0] if alcohol else np.nan)\n",
    "            time.sleep(random.choice([x/10 for x in range(10,20)]))\n",
    "            break\n",
    "            \n",
    "        except:\n",
    "            driver.execute_script(f\"window.scrollTo(0, {num});\")\n",
    "            num += 200\n",
    "    "
   ]
  },
  {
   "cell_type": "code",
   "execution_count": 11,
   "metadata": {
    "ExecuteTime": {
     "end_time": "2021-05-11T11:19:59.255315Z",
     "start_time": "2021-05-11T11:19:59.252475Z"
    }
   },
   "outputs": [],
   "source": [
    "reviews = [] #combined reviews\n",
    "for i, n in enumerate(review1):\n",
    "    reviews.append(review1[i] + ',' + review2[i] + ',' + review3[i])"
   ]
  },
  {
   "cell_type": "code",
   "execution_count": 12,
   "metadata": {
    "ExecuteTime": {
     "end_time": "2021-05-11T11:20:10.243483Z",
     "start_time": "2021-05-11T11:20:10.240670Z"
    }
   },
   "outputs": [],
   "source": [
    "driver.quit()"
   ]
  },
  {
   "cell_type": "code",
   "execution_count": 13,
   "metadata": {
    "ExecuteTime": {
     "end_time": "2021-05-11T11:20:19.991471Z",
     "start_time": "2021-05-11T11:20:19.987231Z"
    }
   },
   "outputs": [
    {
     "data": {
      "text/plain": [
       "1800"
      ]
     },
     "execution_count": 13,
     "metadata": {},
     "output_type": "execute_result"
    }
   ],
   "source": [
    "#checking the length of the review list\n",
    "len(reviews)"
   ]
  },
  {
   "cell_type": "code",
   "execution_count": 14,
   "metadata": {
    "ExecuteTime": {
     "end_time": "2021-05-11T11:20:39.807956Z",
     "start_time": "2021-05-11T11:20:39.804468Z"
    }
   },
   "outputs": [
    {
     "data": {
      "text/plain": [
       "1800"
      ]
     },
     "execution_count": 14,
     "metadata": {},
     "output_type": "execute_result"
    }
   ],
   "source": [
    "#checking the length of the winery list\n",
    "len(winery)"
   ]
  },
  {
   "cell_type": "code",
   "execution_count": 15,
   "metadata": {
    "ExecuteTime": {
     "end_time": "2021-05-11T11:21:00.811776Z",
     "start_time": "2021-05-11T11:21:00.808852Z"
    }
   },
   "outputs": [],
   "source": [
    "#putting all of this into a dataframe\n",
    "wine_df = pd.DataFrame({'winery': winery, 'wine_name': wine_name, \n",
    "                       'wine_type': wine_type, 'wine_country': wine_country,\n",
    "                       'average_rating': average_rating, 'num_of_ratings': num_of_ratings,\n",
    "                       'wine_price': wine_price, 'grapes': grapes, 'alcohol_content': alcohol_content, 'reviews': reviews})"
   ]
  },
  {
   "cell_type": "code",
   "execution_count": 16,
   "metadata": {
    "ExecuteTime": {
     "end_time": "2021-05-11T11:21:10.061019Z",
     "start_time": "2021-05-11T11:21:10.058694Z"
    }
   },
   "outputs": [],
   "source": [
    "wine_df.to_csv('wine_info.csv', index = False )"
   ]
  }
 ],
 "metadata": {
  "kernelspec": {
   "display_name": "learn-env",
   "language": "python",
   "name": "learn-env"
  },
  "language_info": {
   "codemirror_mode": {
    "name": "ipython",
    "version": 3
   },
   "file_extension": ".py",
   "mimetype": "text/x-python",
   "name": "python",
   "nbconvert_exporter": "python",
   "pygments_lexer": "ipython3",
   "version": "3.8.5"
  },
  "toc": {
   "base_numbering": 1,
   "nav_menu": {},
   "number_sections": true,
   "sideBar": true,
   "skip_h1_title": false,
   "title_cell": "Table of Contents",
   "title_sidebar": "Contents",
   "toc_cell": false,
   "toc_position": {},
   "toc_section_display": true,
   "toc_window_display": false
  },
  "varInspector": {
   "cols": {
    "lenName": 16,
    "lenType": 16,
    "lenVar": 40
   },
   "kernels_config": {
    "python": {
     "delete_cmd_postfix": "",
     "delete_cmd_prefix": "del ",
     "library": "var_list.py",
     "varRefreshCmd": "print(var_dic_list())"
    },
    "r": {
     "delete_cmd_postfix": ") ",
     "delete_cmd_prefix": "rm(",
     "library": "var_list.r",
     "varRefreshCmd": "cat(var_dic_list()) "
    }
   },
   "types_to_exclude": [
    "module",
    "function",
    "builtin_function_or_method",
    "instance",
    "_Feature"
   ],
   "window_display": false
  }
 },
 "nbformat": 4,
 "nbformat_minor": 4
}
